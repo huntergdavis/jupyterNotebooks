{
 "cells": [
  {
   "cell_type": "markdown",
   "metadata": {},
   "source": [
    "<h1>This is a jupyter notebook for quitting coffee.   It does a few things.</h1>\n",
    "\n",
    "<ol>\n",
    "\n",
    "<li> Know what day it is to start out </li>\n",
    "<li>  Know what day it is today</li>\n",
    "<li>  Know how long you've been quitting coffee</li>\n",
    "<li>  Know if it's a coffee day or not</li>\n",
    "<li>  Know how much coffee is</li>\n",
    "<li>  Spit out statistics</li>\n",
    "</ol>"
   ]
  },
  {
   "cell_type": "code",
   "execution_count": 214,
   "metadata": {
    "collapsed": true
   },
   "outputs": [],
   "source": [
    "numberOfCupsYouStartedOutDrinkingPerWeek = 8;"
   ]
  },
  {
   "cell_type": "code",
   "execution_count": 215,
   "metadata": {
    "collapsed": true
   },
   "outputs": [],
   "source": [
    "costPerCoffee = 4.53"
   ]
  },
  {
   "cell_type": "code",
   "execution_count": 216,
   "metadata": {
    "collapsed": true
   },
   "outputs": [],
   "source": [
    "numberOfCupsToCutPerWeek = 1;"
   ]
  },
  {
   "cell_type": "code",
   "execution_count": 217,
   "metadata": {
    "collapsed": false
   },
   "outputs": [],
   "source": [
    "from datetime import date\n",
    "import math"
   ]
  },
  {
   "cell_type": "markdown",
   "metadata": {},
   "source": [
    "First, let's set the start date, and get today's date"
   ]
  },
  {
   "cell_type": "code",
   "execution_count": 218,
   "metadata": {
    "collapsed": false
   },
   "outputs": [],
   "source": [
    "startDate = date(2016, 3, 13);"
   ]
  },
  {
   "cell_type": "code",
   "execution_count": 219,
   "metadata": {
    "collapsed": false
   },
   "outputs": [],
   "source": [
    "todayDate = date.today();"
   ]
  },
  {
   "cell_type": "code",
   "execution_count": 220,
   "metadata": {
    "collapsed": true
   },
   "outputs": [],
   "source": [
    "difference = todayDate - startDate;"
   ]
  },
  {
   "cell_type": "code",
   "execution_count": 221,
   "metadata": {
    "collapsed": false
   },
   "outputs": [
    {
     "name": "stdout",
     "output_type": "stream",
     "text": [
      "You have been quitting coffee for 0 days\n"
     ]
    }
   ],
   "source": [
    "print(\"You have been quitting coffee for {0} days\".format(difference.days));\n"
   ]
  },
  {
   "cell_type": "markdown",
   "metadata": {},
   "source": [
    "Here is our function to determine if we should have a coffee today.  Here's what we know:\n",
    "1. The number of days you've been quitting coffee\n",
    "2. The number of cups per week \n",
    "3. The amount you will cut per week\n"
   ]
  },
  {
   "cell_type": "code",
   "execution_count": 222,
   "metadata": {
    "collapsed": false
   },
   "outputs": [],
   "source": [
    "def isThisACoffeeDay(difference, numberOfCupsYouStartedOutDrinkingPerWeek, numberOfCupsToCutPerWeek):\n",
    "    \n",
    "    # how many weeks have you been quitting?\n",
    "    numberOfWeeksYouveBeenAtThis = math.floor(difference.days / 7); \n",
    "    \n",
    "    # how long will it take to quit\n",
    "    numberOfWeeksItllTakeToQuit = math.ceil(numberOfCupsYouStartedOutDrinkingPerWeek / numberOfCupsToCutPerWeek);\n",
    "    \n",
    "    # how many coffees to cut this week?\n",
    "    coffeesToCutThisWeek = (numberOfWeeksYouveBeenAtThis + 1) * numberOfCupsToCutPerWeek;\n",
    "    \n",
    "    # how many coffees this week?\n",
    "    coffeesThisWeek = numberOfCupsYouStartedOutDrinkingPerWeek - coffeesToCutThisWeek;\n",
    "    \n",
    "    #what day of the week is it?\n",
    "    dayOfTheWeek = difference.days % 7;\n",
    "    \n",
    "    \n",
    "    return singleWeekSimulator(coffeesThisWeek,dayOfTheWeek);"
   ]
  },
  {
   "cell_type": "code",
   "execution_count": 223,
   "metadata": {
    "collapsed": false
   },
   "outputs": [],
   "source": [
    "def howMuchMoneyHaveISavedThusFar(difference, numberOfCupsYouStartedOutDrinkingPerWeek,\n",
    "                                  numberOfCupsToCutPerWeek,costPerCoffee):\n",
    "    \n",
    "    # how many weeks have you been quitting?\n",
    "    numberOfWeeksYouveBeenAtThis = math.floor(difference.days / 7); \n",
    "    \n",
    "    totalSaved = 0;\n",
    "    \n",
    "    for x in range(0,numberOfWeeksYouveBeenAtThis+1):\n",
    "        totalSaved += ((x+1) * numberOfCupsToCutPerWeek * costPerCoffee);\n",
    "    \n",
    "    \n",
    "    return totalSaved;"
   ]
  },
  {
   "cell_type": "code",
   "execution_count": 224,
   "metadata": {
    "collapsed": false
   },
   "outputs": [],
   "source": [
    "def singleWeekSimulator(coffeesThisWeek, dayOfTheWeek):\n",
    "    \n",
    "    #this is a fun function. As we have 7 odd days of the week we'll get good coverage with 4x iterator\n",
    "    daysOfTheWeekAndTheCoffeeTheyHold =[0,0,0,0,0,0,0];\n",
    "    \n",
    "    coffeesRemaining = coffeesThisWeek;\n",
    "    pointerIntoWeekArray = 0;\n",
    "    \n",
    "    \n",
    "    while coffeesRemaining > 0:\n",
    "        pointerIntoWeekArray += 4;\n",
    "        pointerIntoWeekArray = pointerIntoWeekArray % 7;\n",
    "        daysOfTheWeekAndTheCoffeeTheyHold[pointerIntoWeekArray] += 1;\n",
    "        coffeesRemaining -= 1;\n",
    "        \n",
    "        # want to see how the 7 day week % 4 looks in terms of spread?  Print it out->\n",
    "        #print(\"PointerIntoWeekAray {}\".format(pointerIntoWeekArray));\n",
    "    \n",
    "    \n",
    "    print(\"Here is your coffee schedule this week:\")\n",
    "    print(\"=====================\")\n",
    "    print(\"[M, T, W, T, F, S, S]\")\n",
    "    print(daysOfTheWeekAndTheCoffeeTheyHold)\n",
    "    print(\"=====================\")\n",
    "    \n",
    "    \n",
    "    return daysOfTheWeekAndTheCoffeeTheyHold[dayOfTheWeek];"
   ]
  },
  {
   "cell_type": "code",
   "execution_count": 225,
   "metadata": {
    "collapsed": false
   },
   "outputs": [
    {
     "name": "stdout",
     "output_type": "stream",
     "text": [
      "Here is your coffee schedule this week:\n",
      "=====================\n",
      "[M, T, W, T, F, S, S]\n",
      "[1, 1, 1, 1, 1, 1, 1]\n",
      "=====================\n",
      "This is a coffee Day, you should have 1 coffee(s)\n",
      "You have saved 4.53$ thus far, congratulations!\n"
     ]
    }
   ],
   "source": [
    "coffeesToday = isThisACoffeeDay(difference, numberOfCupsYouStartedOutDrinkingPerWeek, numberOfCupsToCutPerWeek);\n",
    "\n",
    "if coffeesToday:\n",
    "    print(\"This is a coffee Day, you should have {} coffee(s)\".format(coffeesToday))\n",
    "else:\n",
    "    print(\"This is NOT a Coffee Day\")\n",
    "    \n",
    "    \n",
    "print(\"You have saved {}$ thus far, congratulations!\".format(\n",
    "        howMuchMoneyHaveISavedThusFar(difference, \n",
    "                                      numberOfCupsYouStartedOutDrinkingPerWeek,\n",
    "                                      numberOfCupsToCutPerWeek,costPerCoffee)));"
   ]
  }
 ],
 "metadata": {
  "kernelspec": {
   "display_name": "Python 3",
   "language": "python",
   "name": "python3"
  },
  "language_info": {
   "codemirror_mode": {
    "name": "ipython",
    "version": 3
   },
   "file_extension": ".py",
   "mimetype": "text/x-python",
   "name": "python",
   "nbconvert_exporter": "python",
   "pygments_lexer": "ipython3",
   "version": "3.5.1"
  }
 },
 "nbformat": 4,
 "nbformat_minor": 0
}
